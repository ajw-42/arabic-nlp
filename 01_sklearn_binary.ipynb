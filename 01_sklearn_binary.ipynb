{
  "nbformat": 4,
  "nbformat_minor": 0,
  "metadata": {
    "colab": {
      "name": "01-sklearn-binary.ipynb",
      "provenance": [],
      "collapsed_sections": [],
      "authorship_tag": "ABX9TyMtXGnXnVOsKhV73Xg5H5uY"
    },
    "kernelspec": {
      "name": "python3",
      "display_name": "Python 3"
    }
  },
  "cells": [
    {
      "cell_type": "markdown",
      "metadata": {
        "id": "3K1LyJVOWmOn",
        "colab_type": "text"
      },
      "source": [
        "Let's get started by exploring the very common `sklearn` package, which among many other things has some nice utilities for text classification."
      ]
    },
    {
      "cell_type": "code",
      "metadata": {
        "id": "fT-83oGJmCdE",
        "colab_type": "code",
        "colab": {}
      },
      "source": [
        "import pandas as pd\n",
        "import numpy as np\n",
        "import sklearn"
      ],
      "execution_count": 0,
      "outputs": []
    },
    {
      "cell_type": "code",
      "metadata": {
        "id": "atgLVpdMr_at",
        "colab_type": "code",
        "outputId": "55b52968-fad1-4fef-fa6a-4c2578420784",
        "colab": {
          "base_uri": "https://localhost:8080/",
          "height": 261
        }
      },
      "source": [
        "from google.colab import drive\n",
        "\n",
        "drive.mount('/content/gdrive')\n",
        "\n",
        "train = pd.read_csv('gdrive/My Drive/RTANews_raw/arabic_train.csv')\n",
        "val = pd.read_csv('gdrive/My Drive/RTANews_raw/arabic_val.csv')\n",
        "test = pd.read_csv('gdrive/My Drive/RTANews_raw/arabic_test.csv')\n",
        "\n",
        "train.head()"
      ],
      "execution_count": 50,
      "outputs": [
        {
          "output_type": "stream",
          "text": [
            "Drive already mounted at /content/gdrive; to attempt to forcibly remount, call drive.mount(\"/content/gdrive\", force_remount=True).\n"
          ],
          "name": "stdout"
        },
        {
          "output_type": "execute_result",
          "data": {
            "text/html": [
              "<div>\n",
              "<style scoped>\n",
              "    .dataframe tbody tr th:only-of-type {\n",
              "        vertical-align: middle;\n",
              "    }\n",
              "\n",
              "    .dataframe tbody tr th {\n",
              "        vertical-align: top;\n",
              "    }\n",
              "\n",
              "    .dataframe thead th {\n",
              "        text-align: right;\n",
              "    }\n",
              "</style>\n",
              "<table border=\"1\" class=\"dataframe\">\n",
              "  <thead>\n",
              "    <tr style=\"text-align: right;\">\n",
              "      <th></th>\n",
              "      <th>text</th>\n",
              "      <th>category</th>\n",
              "      <th>label</th>\n",
              "    </tr>\n",
              "  </thead>\n",
              "  <tbody>\n",
              "    <tr>\n",
              "      <th>0</th>\n",
              "      <td>لوكسمبورغ: كاميرون ارتكب خطأ تاريخيا بطرح الاس...</td>\n",
              "      <td>استفتاء_بريطانيا</td>\n",
              "      <td>1</td>\n",
              "    </tr>\n",
              "    <tr>\n",
              "      <th>1</th>\n",
              "      <td>روسيا بصدد تصنيع مركبة فضائية جديدة\\n تبدأ عمل...</td>\n",
              "      <td>التقنية_والمعلومات</td>\n",
              "      <td>10</td>\n",
              "    </tr>\n",
              "    <tr>\n",
              "      <th>2</th>\n",
              "      <td>صادرات ألمانيا إلى روسيا عند أدنى مستوى  منذ 1...</td>\n",
              "      <td>عقوبات_اقتصادية</td>\n",
              "      <td>25</td>\n",
              "    </tr>\n",
              "    <tr>\n",
              "      <th>3</th>\n",
              "      <td>الجيش السوري يصد هجوم جبهة النصرة في ريف حلب\\n...</td>\n",
              "      <td>المعارضة_السورية</td>\n",
              "      <td>12</td>\n",
              "    </tr>\n",
              "    <tr>\n",
              "      <th>4</th>\n",
              "      <td>ردود أفعال وسائل إعلام غربية على عملية درع الف...</td>\n",
              "      <td>الأزمة_السورية</td>\n",
              "      <td>6</td>\n",
              "    </tr>\n",
              "  </tbody>\n",
              "</table>\n",
              "</div>"
            ],
            "text/plain": [
              "                                                text            category  label\n",
              "0  لوكسمبورغ: كاميرون ارتكب خطأ تاريخيا بطرح الاس...    استفتاء_بريطانيا      1\n",
              "1  روسيا بصدد تصنيع مركبة فضائية جديدة\\n تبدأ عمل...  التقنية_والمعلومات     10\n",
              "2  صادرات ألمانيا إلى روسيا عند أدنى مستوى  منذ 1...     عقوبات_اقتصادية     25\n",
              "3  الجيش السوري يصد هجوم جبهة النصرة في ريف حلب\\n...    المعارضة_السورية     12\n",
              "4  ردود أفعال وسائل إعلام غربية على عملية درع الف...     الأزمة_السورية      6"
            ]
          },
          "metadata": {
            "tags": []
          },
          "execution_count": 50
        }
      ]
    },
    {
      "cell_type": "markdown",
      "metadata": {
        "id": "c3IjDiRB0182",
        "colab_type": "text"
      },
      "source": [
        "For simplicity, we're going to reduce our problem from multiclass to binary classification for now.\n",
        "\n",
        "We have a few categories of news about Yemen and a few others about Syria -- let's imagine that we're trying to differentiate between those."
      ]
    },
    {
      "cell_type": "code",
      "metadata": {
        "id": "TNhdLc551cIT",
        "colab_type": "code",
        "outputId": "2abad1f9-7af7-4d0b-ef0c-2a1c6f3f0372",
        "colab": {
          "base_uri": "https://localhost:8080/",
          "height": 34
        }
      },
      "source": [
        "#This is a nice way to create a new variable in a dataframe based on a condition\n",
        "train['binary'] = np.where(train['category'].str.contains('اليمن|يمني') == True, 1,\n",
        "                           np.where(train['category'].str.contains('السوريا|سوري') == True, 0, -1))\n",
        "\n",
        "test['binary'] = np.where(test['category'].str.contains('اليمن|يمني') == True, 1,\n",
        "                           np.where(test['category'].str.contains('السوريا|سوري') == True, 0, -1))\n",
        "\n",
        "#Let's look at values for this new class to be sure our transformation worked\n",
        "np.unique(test.binary, return_counts=True)"
      ],
      "execution_count": 0,
      "outputs": [
        {
          "output_type": "execute_result",
          "data": {
            "text/plain": [
              "(array([-1,  0,  1]), array([2296,  418,   53]))"
            ]
          },
          "metadata": {
            "tags": []
          },
          "execution_count": 37
        }
      ]
    },
    {
      "cell_type": "code",
      "metadata": {
        "id": "ivUti5m6anpr",
        "colab_type": "code",
        "outputId": "e5c57238-9a69-42d6-f623-6e5c9b575ad4",
        "colab": {
          "base_uri": "https://localhost:8080/",
          "height": 34
        }
      },
      "source": [
        "#Now we'll remove the items that don't belong to our new binary categories\n",
        "train = train[train.binary >= 0]\n",
        "test = test[test.binary >= 0]\n",
        "\n",
        "len(train)"
      ],
      "execution_count": 0,
      "outputs": [
        {
          "output_type": "execute_result",
          "data": {
            "text/plain": [
              "3781"
            ]
          },
          "metadata": {
            "tags": []
          },
          "execution_count": 38
        }
      ]
    },
    {
      "cell_type": "markdown",
      "metadata": {
        "id": "6ZXzGbkQwuwJ",
        "colab_type": "text"
      },
      "source": [
        "For any machine learning approach, we first need a numeric representation of our text. Then we feed that numeric representation, and our labels, into a machine learning model. Sometimes a single technique or library provides both a tool for getting a good representation of a text (sometimes called feature extraction) and a machine learning approach. But that isn't always the case! For example, we might use a complex feature extraction technique but a simpler (but still effective!) machine learning model when we're first testing that feature extration technique, in order to iterate more quickly. Complex models take a longer time (and more computing resources) to train.\n",
        "\n",
        "`sklearn.feature_extraction.text` provides two simple utilities for text: `CountVectorizer` and `TfidfVectorizer`. Let's use `CountVectorizer` for now. It counts the frequency of each word in the training data and creates a matrix of words and counts. For the test data, it counts the frequency of the same words - the model woudldn't know what to do with a word in the test data that it hadn't been trained on. "
      ]
    },
    {
      "cell_type": "code",
      "metadata": {
        "id": "09U_yic4r_gu",
        "colab_type": "code",
        "colab": {}
      },
      "source": [
        "#We create a CountVectorizer object and tell it to count n-grams in the range 1-3 (1 to 3 word phrases)\n",
        "vectorizer = sklearn.feature_extraction.text.CountVectorizer(ngram_range=(1,3))\n",
        "\n",
        "#We want just our text as a list, rather than a row in a dataframe\n",
        "words_train = [text for text in train.text]\n",
        "words_test = [text for text in test.text]\n",
        "\n",
        "#Now we use our vectorizer on the train and test data\n",
        "X_train = vectorizer.fit_transform(words_train)\n",
        "X_test = vectorizer.transform(words_test)\n",
        "\n",
        "#We also need to separate out our labels\n",
        "Y_train = train.binary\n",
        "Y_test = test.binary"
      ],
      "execution_count": 0,
      "outputs": []
    },
    {
      "cell_type": "markdown",
      "metadata": {
        "id": "AXq_mqlFzjZi",
        "colab_type": "text"
      },
      "source": [
        "Note that `vectorizer.fit_transform()` is actually doing two things at once, and you could call `vectorizer.fit()` and then `vectorizer.transformer()` instead. The vectorizer is first 'fit' to the training data, and then we do the same transformation on both the training and test data so that we can feed them into the same model.\n",
        "\n",
        "Next, we can use any number of the many classifications techniques available in sklearn. Let's look in depth at two approaches: a simple `LogisticRegression` and the similar, but slightly more complex, `LinearSVC`. This is short for Support Vector Classifier, and here's a nice introduction if you're not familiar: https://towardsdatascience.com/support-vector-machine-introduction-to-machine-learning-algorithms-934a444fca47. Very briefly, it's another approach to linear regression that does very well with these kinds of classification problems and is not computationally expensive.\n",
        "\n",
        "`score()` produces an accuracy metric for the classifier, using the test data. In other words, how many of the test labels did the classifier guess correctly?"
      ]
    },
    {
      "cell_type": "code",
      "metadata": {
        "id": "tUY-Apm4r_eq",
        "colab_type": "code",
        "outputId": "c9b10a5c-6681-4edd-dbc2-a9ffc082bddc",
        "colab": {
          "base_uri": "https://localhost:8080/",
          "height": 34
        }
      },
      "source": [
        "from sklearn.linear_model import LogisticRegression\n",
        "\n",
        "classifier = LogisticRegression(max_iter=5000).fit(X_train, Y_train)\n",
        "classifier.score(X_test, Y_test)"
      ],
      "execution_count": 0,
      "outputs": [
        {
          "output_type": "execute_result",
          "data": {
            "text/plain": [
              "0.970276008492569"
            ]
          },
          "metadata": {
            "tags": []
          },
          "execution_count": 42
        }
      ]
    },
    {
      "cell_type": "code",
      "metadata": {
        "id": "i_r_vtMSy_C9",
        "colab_type": "code",
        "outputId": "b5f39811-d98b-4138-e3fb-79711ac66227",
        "colab": {
          "base_uri": "https://localhost:8080/",
          "height": 111
        }
      },
      "source": [
        "from sklearn.svm import LinearSVC\n",
        "\n",
        "classifier = LinearSVC(max_iter=10000).fit(X_train, Y_train)\n",
        "classifier.score(X_test, Y_test)"
      ],
      "execution_count": 0,
      "outputs": [
        {
          "output_type": "stream",
          "text": [
            "/usr/local/lib/python3.6/dist-packages/sklearn/svm/_base.py:947: ConvergenceWarning: Liblinear failed to converge, increase the number of iterations.\n",
            "  \"the number of iterations.\", ConvergenceWarning)\n"
          ],
          "name": "stderr"
        },
        {
          "output_type": "execute_result",
          "data": {
            "text/plain": [
              "0.9723991507430998"
            ]
          },
          "metadata": {
            "tags": []
          },
          "execution_count": 44
        }
      ]
    },
    {
      "cell_type": "markdown",
      "metadata": {
        "id": "F1Iqsnot8GQP",
        "colab_type": "text"
      },
      "source": [
        "These results look good! As expected, the SVC performs slightly better. However, remember that our classes are a bit imbalanced - we have more articles about Syria that about Yemen. So let's use a confusion matrix to get a better sense of how the model is performing."
      ]
    },
    {
      "cell_type": "code",
      "metadata": {
        "id": "E4e_jPKtzGS5",
        "colab_type": "code",
        "outputId": "ead67eb1-31ed-424c-e4cf-458a0a10176c",
        "colab": {
          "base_uri": "https://localhost:8080/",
          "height": 51
        }
      },
      "source": [
        "from sklearn.metrics import confusion_matrix\n",
        "\n",
        "preds = classifier.predict(X_test)\n",
        "\n",
        "confusion_matrix(y_true = Y_test,\n",
        "                 y_pred = preds)"
      ],
      "execution_count": 0,
      "outputs": [
        {
          "output_type": "execute_result",
          "data": {
            "text/plain": [
              "array([[412,   6],\n",
              "       [  7,  46]])"
            ]
          },
          "metadata": {
            "tags": []
          },
          "execution_count": 47
        }
      ]
    },
    {
      "cell_type": "markdown",
      "metadata": {
        "id": "k3gJo9IA9unT",
        "colab_type": "text"
      },
      "source": [
        "So it seems like class imbalance isn't really an issue here - we have only a few false negatives (bottom left value) and a few false positives (top right value).\n",
        "\n",
        "Great! We've gotten good results for this simply binary classification problem. But remember that we're really dealing with 40 categories here. In future notebooks we'll address that more complex problem."
      ]
    }
  ]
}