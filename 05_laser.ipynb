{
  "nbformat": 4,
  "nbformat_minor": 0,
  "metadata": {
    "colab": {
      "name": "05-laser.ipynb",
      "provenance": [],
      "collapsed_sections": [],
      "authorship_tag": "ABX9TyPLIP77qKfwAMgBfGKRtl8q",
      "include_colab_link": true
    },
    "kernelspec": {
      "name": "python3",
      "display_name": "Python 3"
    },
    "accelerator": "GPU"
  },
  "cells": [
    {
      "cell_type": "markdown",
      "metadata": {
        "id": "view-in-github",
        "colab_type": "text"
      },
      "source": [
        "<a href=\"https://colab.research.google.com/github/ajw-42/arabic-nlp/blob/master/05_laser.ipynb\" target=\"_parent\"><img src=\"https://colab.research.google.com/assets/colab-badge.svg\" alt=\"Open In Colab\"/></a>"
      ]
    },
    {
      "cell_type": "markdown",
      "metadata": {
        "id": "fW6axbdZK_kN",
        "colab_type": "text"
      },
      "source": [
        "Let's look at one more set of pre-trained word embeddings before moving on. They aren't necessarily a good fit for our problem, but they're an interesting and relatively new approach.\n",
        "\n",
        "[LASER (Language-Agnostic SEntence Representations)](https://github.com/facebookresearch/LASER) is, as the name indicates, an approach for producing a single set of sentence-level representations across languages. This is great for multilingual datasets and also avoids the problem we encountered previously of having word vectors that we then averaged to get sentence- or document-level vecotrs. As we saw for `fasttext`, pre-trained embeddings are made available in addition to utilities for training your own embeddings from scratch.\n",
        "\n",
        "The `LaserEmbeddings` library is a nice wrapper for `LASER` that makes the process of getting sentence representations a bit easier. In Google Colab, we'll need to pip install it before importing.\n",
        "\n"
      ]
    },
    {
      "cell_type": "code",
      "metadata": {
        "id": "VL99gWTmMcXa",
        "colab_type": "code",
        "outputId": "375e1d75-0955-400f-e200-ab7cad0f4d1b",
        "colab": {
          "base_uri": "https://localhost:8080/",
          "height": 497
        }
      },
      "source": [
        "!pip install laserembeddings"
      ],
      "execution_count": 1,
      "outputs": [
        {
          "output_type": "stream",
          "text": [
            "Collecting laserembeddings\n",
            "  Downloading https://files.pythonhosted.org/packages/c5/6b/93843d90080666571a79f8eb195fa58aa5e45cf24d36158b9c01dba306e2/laserembeddings-1.0.1-py3-none-any.whl\n",
            "Collecting transliterate==1.10.2\n",
            "\u001b[?25l  Downloading https://files.pythonhosted.org/packages/a1/6e/9a9d597dbdd6d0172427c8cc07c35736471e631060df9e59eeb87687f817/transliterate-1.10.2-py2.py3-none-any.whl (45kB)\n",
            "\r\u001b[K     |███████▏                        | 10kB 30.3MB/s eta 0:00:01\r\u001b[K     |██████████████▎                 | 20kB 6.1MB/s eta 0:00:01\r\u001b[K     |█████████████████████▌          | 30kB 8.7MB/s eta 0:00:01\r\u001b[K     |████████████████████████████▋   | 40kB 11.2MB/s eta 0:00:01\r\u001b[K     |████████████████████████████████| 51kB 5.5MB/s \n",
            "\u001b[?25hCollecting subword-nmt<0.4.0,>=0.3.6\n",
            "  Downloading https://files.pythonhosted.org/packages/74/60/6600a7bc09e7ab38bc53a48a20d8cae49b837f93f5842a41fe513a694912/subword_nmt-0.3.7-py2.py3-none-any.whl\n",
            "Collecting sacremoses==0.0.35\n",
            "\u001b[?25l  Downloading https://files.pythonhosted.org/packages/1f/8e/ed5364a06a9ba720fddd9820155cc57300d28f5f43a6fd7b7e817177e642/sacremoses-0.0.35.tar.gz (859kB)\n",
            "\u001b[K     |████████████████████████████████| 860kB 26.6MB/s \n",
            "\u001b[?25hRequirement already satisfied: torch<2.0.0,>=1.0.1.post2 in /usr/local/lib/python3.6/dist-packages (from laserembeddings) (1.4.0)\n",
            "Requirement already satisfied: numpy<2.0.0,>=1.15.4 in /usr/local/lib/python3.6/dist-packages (from laserembeddings) (1.18.2)\n",
            "Requirement already satisfied: six>=1.1.0 in /usr/local/lib/python3.6/dist-packages (from transliterate==1.10.2->laserembeddings) (1.12.0)\n",
            "Requirement already satisfied: click in /usr/local/lib/python3.6/dist-packages (from sacremoses==0.0.35->laserembeddings) (7.1.1)\n",
            "Requirement already satisfied: joblib in /usr/local/lib/python3.6/dist-packages (from sacremoses==0.0.35->laserembeddings) (0.14.1)\n",
            "Requirement already satisfied: tqdm in /usr/local/lib/python3.6/dist-packages (from sacremoses==0.0.35->laserembeddings) (4.38.0)\n",
            "Building wheels for collected packages: sacremoses\n",
            "  Building wheel for sacremoses (setup.py) ... \u001b[?25l\u001b[?25hdone\n",
            "  Created wheel for sacremoses: filename=sacremoses-0.0.35-cp36-none-any.whl size=883999 sha256=5dc589b78f54dfdbde8550f06cf7b93a3ebbd247add2a258d195739a18ce92b3\n",
            "  Stored in directory: /root/.cache/pip/wheels/63/2a/db/63e2909042c634ef551d0d9ac825b2b0b32dede4a6d87ddc94\n",
            "Successfully built sacremoses\n",
            "Installing collected packages: transliterate, subword-nmt, sacremoses, laserembeddings\n",
            "Successfully installed laserembeddings-1.0.1 sacremoses-0.0.35 subword-nmt-0.3.7 transliterate-1.10.2\n"
          ],
          "name": "stdout"
        }
      ]
    },
    {
      "cell_type": "code",
      "metadata": {
        "id": "meCPvNH2K-nt",
        "colab_type": "code",
        "colab": {}
      },
      "source": [
        "import pandas as pd\n",
        "import numpy as np\n",
        "import sklearn\n",
        "import laserembeddings"
      ],
      "execution_count": 0,
      "outputs": []
    },
    {
      "cell_type": "code",
      "metadata": {
        "id": "EmAoU1u0MSaK",
        "colab_type": "code",
        "outputId": "5e331f20-08ec-4b5a-9fb0-97cf76aa33e5",
        "colab": {
          "base_uri": "https://localhost:8080/",
          "height": 309
        }
      },
      "source": [
        "from google.colab import drive\n",
        "\n",
        "drive.mount('/content/gdrive')\n",
        "\n",
        "train = pd.read_csv('gdrive/My Drive/RTANews_raw/arabic_train.csv')\n",
        "val = pd.read_csv('gdrive/My Drive/RTANews_raw/arabic_val.csv')\n",
        "test = pd.read_csv('gdrive/My Drive/RTANews_raw/arabic_test.csv')\n",
        "\n",
        "train.head()\n",
        "\n",
        "#Again, we'll limit ourselves to 20 classes for now.\n",
        "train = train[train.label <= 20]\n",
        "test = test[test.label <= 20]"
      ],
      "execution_count": 3,
      "outputs": [
        {
          "output_type": "stream",
          "text": [
            "Go to this URL in a browser: https://accounts.google.com/o/oauth2/auth?client_id=947318989803-6bn6qk8qdgf4n4g3pfee6491hc0brc4i.apps.googleusercontent.com&redirect_uri=urn%3aietf%3awg%3aoauth%3a2.0%3aoob&response_type=code&scope=email%20https%3a%2f%2fwww.googleapis.com%2fauth%2fdocs.test%20https%3a%2f%2fwww.googleapis.com%2fauth%2fdrive%20https%3a%2f%2fwww.googleapis.com%2fauth%2fdrive.photos.readonly%20https%3a%2f%2fwww.googleapis.com%2fauth%2fpeopleapi.readonly\n",
            "\n",
            "Enter your authorization code:\n",
            "··········\n",
            "Mounted at /content/gdrive\n"
          ],
          "name": "stdout"
        }
      ]
    },
    {
      "cell_type": "code",
      "metadata": {
        "id": "T_kD8MALMSfN",
        "colab_type": "code",
        "outputId": "2486b90f-a4e2-4e3c-928e-51d0d2edbe8f",
        "colab": {
          "base_uri": "https://localhost:8080/",
          "height": 165
        }
      },
      "source": [
        "#Now we need to download the pre-trained models\n",
        "!python -m laserembeddings download-models\n"
      ],
      "execution_count": 4,
      "outputs": [
        {
          "output_type": "stream",
          "text": [
            "Downloading models into /usr/local/lib/python3.6/dist-packages/laserembeddings/data\n",
            "\n",
            "✅   Downloaded https://dl.fbaipublicfiles.com/laser/models/93langs.fcodes    \n",
            "✅   Downloaded https://dl.fbaipublicfiles.com/laser/models/93langs.fvocab    \n",
            "✅   Downloaded https://dl.fbaipublicfiles.com/laser/models/bilstm.93langs.2018-12-26.pt    \n",
            "\n",
            "✨ You're all set!\n"
          ],
          "name": "stdout"
        }
      ]
    },
    {
      "cell_type": "markdown",
      "metadata": {
        "id": "pnpRJFE1Pr4W",
        "colab_type": "text"
      },
      "source": [
        "We're also going to assume that each of our documents is one sentence. This isn't exactly true -- most are 3-4 sentences -- but it's a reasonable shortcut that will make things a bit easier here.\n",
        "\n",
        "The `lang` argument is only used to determine how your text will be tokenized. For a multilingual dataset you could either not "
      ]
    },
    {
      "cell_type": "code",
      "metadata": {
        "id": "tdpROF-cOJ0J",
        "colab_type": "code",
        "colab": {}
      },
      "source": [
        "#This will take a while to run!\n",
        "from laserembeddings import Laser\n",
        "\n",
        "laser = Laser()\n",
        "\n",
        "X_train = [laser.embed_sentences([text], lang='ar') for text in train.text]\n",
        "X_test = [laser.embed_sentences([text], lang='ar') for text in test.text]\n"
      ],
      "execution_count": 0,
      "outputs": []
    },
    {
      "cell_type": "markdown",
      "metadata": {
        "id": "nHU7KmXnfUpa",
        "colab_type": "text"
      },
      "source": [
        "`embed_sentences()` outputs a two-dimensional array where the second dimension is 1, so we can flatten our results before we pass them into sklearn.\n"
      ]
    },
    {
      "cell_type": "code",
      "metadata": {
        "id": "QFDMgJQadxuU",
        "colab_type": "code",
        "colab": {}
      },
      "source": [
        "X_train = [np.concatenate(x) for x in X_train]\n",
        "X_test = [np.concatenate(x) for x in X_test]"
      ],
      "execution_count": 0,
      "outputs": []
    },
    {
      "cell_type": "code",
      "metadata": {
        "id": "BqBKqkoFOJ6M",
        "colab_type": "code",
        "colab": {
          "base_uri": "https://localhost:8080/",
          "height": 34
        },
        "outputId": "af9e2baf-c501-4a2a-f60a-c056e386c424"
      },
      "source": [
        "from sklearn.linear_model import LogisticRegression\n",
        "from sklearn.metrics import f1_score\n",
        "\n",
        "Y_train = train.label\n",
        "Y_test = test.label\n",
        "\n",
        "classifier = LogisticRegression(max_iter = 5000, multi_class='multinomial').fit(X_train, Y_train)\n",
        "preds = classifier.predict(X_test)\n",
        "\n",
        "f1_score(Y_test, preds, average = 'weighted')"
      ],
      "execution_count": 10,
      "outputs": [
        {
          "output_type": "execute_result",
          "data": {
            "text/plain": [
              "0.7594143755886662"
            ]
          },
          "metadata": {
            "tags": []
          },
          "execution_count": 10
        }
      ]
    },
    {
      "cell_type": "markdown",
      "metadata": {
        "id": "b_UDUlnhffyL",
        "colab_type": "text"
      },
      "source": [
        "Not bad! It makes sense that this would perform slightly worse in our case than language-specific embeddings, but again LASER is a powerful tool for multi-lingual datasets."
      ]
    }
  ]
}