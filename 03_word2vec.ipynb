{
  "nbformat": 4,
  "nbformat_minor": 0,
  "metadata": {
    "colab": {
      "name": "03-word2vec.ipynb",
      "provenance": [],
      "collapsed_sections": [],
      "authorship_tag": "ABX9TyNQbNz7yiVkrHV6l4ayOc3w"
    },
    "kernelspec": {
      "name": "python3",
      "display_name": "Python 3"
    }
  },
  "cells": [
    {
      "cell_type": "markdown",
      "metadata": {
        "id": "6xEbaIyc89wu",
        "colab_type": "text"
      },
      "source": [
        "Approaches to representing text like `CountVectorizer` are sometimes called bag-of-words approaches, because they don't contain any information about the sequencing of the words. We're also using a fairly small dataset, so our model doesn't necessarily learn any general information about the mea\n",
        "\n",
        "The next few notebooks will introduce more advanced techniques that try to address this problem. First, we'll take a look at word embeddings by focusing on the implementation of Word2Vec available in the `gensim` library."
      ]
    },
    {
      "cell_type": "code",
      "metadata": {
        "id": "_rWOc1_-85hB",
        "colab_type": "code",
        "colab": {}
      },
      "source": [
        "import gensim\n",
        "import pandas as pd\n",
        "import numpy as np\n",
        "import sklearn"
      ],
      "execution_count": 0,
      "outputs": []
    },
    {
      "cell_type": "code",
      "metadata": {
        "id": "RGMTHLUw-nzl",
        "colab_type": "code",
        "colab": {
          "base_uri": "https://localhost:8080/",
          "height": 269
        },
        "outputId": "fbc03a95-e155-429c-81ec-20bc086465f7"
      },
      "source": [
        "from google.colab import drive\n",
        "\n",
        "drive.mount('/content/gdrive')\n",
        "\n",
        "train = pd.read_csv('gdrive/My Drive/RTANews_raw/arabic_train.csv')\n",
        "val = pd.read_csv('gdrive/My Drive/RTANews_raw/arabic_val.csv')\n",
        "test = pd.read_csv('gdrive/My Drive/RTANews_raw/arabic_test.csv')\n",
        "\n",
        "train.head()\n",
        "\n",
        "#Again, we'll limit ourselves to 20 classes for now.\n",
        "train = train[train.label <= 20]\n",
        "test = test[test.label <= 20]"
      ],
      "execution_count": 2,
      "outputs": [
        {
          "output_type": "stream",
          "text": [
            "Go to this URL in a browser: https://accounts.google.com/o/oauth2/auth?client_id=947318989803-6bn6qk8qdgf4n4g3pfee6491hc0brc4i.apps.googleusercontent.com&redirect_uri=urn%3aietf%3awg%3aoauth%3a2.0%3aoob&response_type=code&scope=email%20https%3a%2f%2fwww.googleapis.com%2fauth%2fdocs.test%20https%3a%2f%2fwww.googleapis.com%2fauth%2fdrive%20https%3a%2f%2fwww.googleapis.com%2fauth%2fdrive.photos.readonly%20https%3a%2f%2fwww.googleapis.com%2fauth%2fpeopleapi.readonly\n",
            "\n",
            "Enter your authorization code:\n",
            "··········\n",
            "Mounted at /content/gdrive\n"
          ],
          "name": "stdout"
        }
      ]
    },
    {
      "cell_type": "markdown",
      "metadata": {
        "id": "Hmgj7jfc-ghh",
        "colab_type": "text"
      },
      "source": [
        "We need to add a new preprocessing step here - tokenizing our text into individual words. `nltk`, which we used in a previous notebook for loading stopwords, has a nice utility for this. We're using a naive tokenizer that just looks for spaces between words, but `nltk` offers more advanced approaches as well, for example making use of regular expressions."
      ]
    },
    {
      "cell_type": "code",
      "metadata": {
        "id": "1wGEc7Lq0Dyd",
        "colab_type": "code",
        "colab": {}
      },
      "source": [
        "from nltk.tokenize import WhitespaceTokenizer\n",
        "\n",
        "tokenizer = WhitespaceTokenizer()\n",
        "\n",
        "train_words = [tokenizer.tokenize(t) for t in train.text]\n",
        "test_words = [tokenizer.tokenize(t) for t in test.text]"
      ],
      "execution_count": 0,
      "outputs": []
    },
    {
      "cell_type": "markdown",
      "metadata": {
        "id": "Iy5LgeoO1ffs",
        "colab_type": "text"
      },
      "source": [
        "Now we're going to train a set of word embeddings using the popular Word2Vec approach.\n",
        "\n",
        "Word embeddings are high-dimensional vector representations of words. In previous notebooks, we were also providing vector representations of our text, but using sparse vectors, or vectors where most values are zero (\"this word appears zero times in this document\") and therefore don't contain any information.\n",
        "\n",
        "Word2Vec is a specific approach for learning word embeddings with a shallow neural network. You can read more about it, and word embeddings in general, here: https://towardsdatascience.com/introduction-to-word-embedding-and-word2vec-652d0c2060fa.\n",
        "\n",
        "We pass a few arguments when creating our model, to define the minimum number of times a word can appear to be included in the model and to use the skigram implementation of word2vec (the other being cbow, or continous bag of words, which does better for datasets larger than ours)."
      ]
    },
    {
      "cell_type": "code",
      "metadata": {
        "id": "9S3wgaSG-naN",
        "colab_type": "code",
        "colab": {}
      },
      "source": [
        "model = gensim.models.Word2Vec(train_words, min_count=1, sg=1)"
      ],
      "execution_count": 0,
      "outputs": []
    },
    {
      "cell_type": "markdown",
      "metadata": {
        "id": "kvlkVUiY_Czr",
        "colab_type": "text"
      },
      "source": [
        "Now we should be able to get the embedding for an indiviudal word out of our trained model. Let's give it a try:"
      ]
    },
    {
      "cell_type": "code",
      "metadata": {
        "id": "68gbOuE6--Nm",
        "colab_type": "code",
        "colab": {
          "base_uri": "https://localhost:8080/",
          "height": 448
        },
        "outputId": "decb2870-12ba-43fe-bcb9-927ec147287c"
      },
      "source": [
        "model['المعارضة']"
      ],
      "execution_count": 6,
      "outputs": [
        {
          "output_type": "stream",
          "text": [
            "/usr/local/lib/python3.6/dist-packages/ipykernel_launcher.py:1: DeprecationWarning: Call to deprecated `__getitem__` (Method will be removed in 4.0.0, use self.wv.__getitem__() instead).\n",
            "  \"\"\"Entry point for launching an IPython kernel.\n"
          ],
          "name": "stderr"
        },
        {
          "output_type": "execute_result",
          "data": {
            "text/plain": [
              "array([-0.4255591 ,  0.12782052, -0.81820583, -0.693488  ,  0.30725187,\n",
              "       -0.04758458, -0.17393996, -0.34279114,  0.04506326, -0.06199343,\n",
              "       -0.48297015,  0.6474886 , -0.20032613,  0.5090667 ,  0.49620962,\n",
              "       -0.8726161 , -0.6187834 ,  0.728711  , -0.04358375,  0.34582934,\n",
              "       -0.25561136,  0.62666553,  0.0953557 , -0.06873515, -1.0487658 ,\n",
              "       -0.14294197, -0.38631955,  0.0282319 ,  0.16753352,  0.68459964,\n",
              "       -0.29856402, -0.02244341,  0.3884174 ,  0.26702392, -0.01122629,\n",
              "        0.345474  ,  0.18066911, -0.6465362 , -0.3510268 , -0.4122516 ,\n",
              "       -0.48309022, -0.47709265, -0.5360168 , -0.78399575,  0.42255238,\n",
              "       -0.04670966,  1.5143102 , -0.53281903, -0.03893476,  0.24694243,\n",
              "       -0.01795327,  0.9169943 ,  0.06538728,  0.38306406,  0.58939254,\n",
              "        0.11425997, -0.19075401, -0.01919077, -0.26314145, -0.15615922,\n",
              "        0.2910486 , -0.18993138,  0.5362754 ,  0.03416961, -0.36792135,\n",
              "        0.37644202,  0.95525354,  0.11944794, -0.4860445 ,  0.41102037,\n",
              "        0.00535977, -0.16557032,  0.805943  , -0.8714723 , -1.0324622 ,\n",
              "       -0.08997253,  0.08668143, -0.88110185, -0.19698806, -0.18362378,\n",
              "       -1.0458033 ,  0.5180854 , -0.17923269,  0.5514862 ,  0.5584607 ,\n",
              "        0.3677075 ,  0.01810785, -0.19377653,  0.8103998 , -0.71321505,\n",
              "       -0.08045395, -0.03486695,  1.268967  ,  0.20212665,  0.0797212 ,\n",
              "        0.3222668 , -0.45143333,  0.20395653,  0.33718473, -0.72073424],\n",
              "      dtype=float32)"
            ]
          },
          "metadata": {
            "tags": []
          },
          "execution_count": 6
        }
      ]
    },
    {
      "cell_type": "markdown",
      "metadata": {
        "id": "sGBJrQ-A_R9o",
        "colab_type": "text"
      },
      "source": [
        "A brief tangent: one appealing characteristic of word embeddings is that similar words should be near to each other in embedding space. `gensim` allows us to test this by computing the similarity between two words and by returning the most similar words to a given word.\n",
        "\n",
        "So let's give it a try!"
      ]
    },
    {
      "cell_type": "code",
      "metadata": {
        "id": "6iubDaaK_MVg",
        "colab_type": "code",
        "colab": {
          "base_uri": "https://localhost:8080/",
          "height": 142
        },
        "outputId": "31079d81-ed40-4166-d462-4678d5ad133c"
      },
      "source": [
        "model.similarity('الحرب', 'الصراع')"
      ],
      "execution_count": 7,
      "outputs": [
        {
          "output_type": "stream",
          "text": [
            "/usr/local/lib/python3.6/dist-packages/ipykernel_launcher.py:1: DeprecationWarning: Call to deprecated `similarity` (Method will be removed in 4.0.0, use self.wv.similarity() instead).\n",
            "  \"\"\"Entry point for launching an IPython kernel.\n",
            "/usr/local/lib/python3.6/dist-packages/gensim/matutils.py:737: FutureWarning: Conversion of the second argument of issubdtype from `int` to `np.signedinteger` is deprecated. In future, it will be treated as `np.int64 == np.dtype(int).type`.\n",
            "  if np.issubdtype(vec.dtype, np.int):\n"
          ],
          "name": "stderr"
        },
        {
          "output_type": "execute_result",
          "data": {
            "text/plain": [
              "0.681291"
            ]
          },
          "metadata": {
            "tags": []
          },
          "execution_count": 7
        }
      ]
    },
    {
      "cell_type": "markdown",
      "metadata": {
        "id": "ce8gNCkc3kmA",
        "colab_type": "text"
      },
      "source": [
        "So the words 'war' and 'conflict' are fairly similar - makes sense.\n",
        "\n",
        "Now, we'll look at the five words most similar to \"opposition.\" This is also built into the `gensim` implementation of word2vec."
      ]
    },
    {
      "cell_type": "code",
      "metadata": {
        "id": "niXnsJ0iAFJP",
        "colab_type": "code",
        "colab": {
          "base_uri": "https://localhost:8080/",
          "height": 210
        },
        "outputId": "fc8f9ec8-362b-40b2-bcf3-0debe4b52307"
      },
      "source": [
        "model.most_similar('المعارضة')[:5]"
      ],
      "execution_count": 9,
      "outputs": [
        {
          "output_type": "stream",
          "text": [
            "/usr/local/lib/python3.6/dist-packages/ipykernel_launcher.py:1: DeprecationWarning: Call to deprecated `most_similar` (Method will be removed in 4.0.0, use self.wv.most_similar() instead).\n",
            "  \"\"\"Entry point for launching an IPython kernel.\n",
            "/usr/local/lib/python3.6/dist-packages/gensim/matutils.py:737: FutureWarning: Conversion of the second argument of issubdtype from `int` to `np.signedinteger` is deprecated. In future, it will be treated as `np.int64 == np.dtype(int).type`.\n",
            "  if np.issubdtype(vec.dtype, np.int):\n"
          ],
          "name": "stderr"
        },
        {
          "output_type": "execute_result",
          "data": {
            "text/plain": [
              "[('المعتدلة', 0.8718295693397522),\n",
              " ('للمعارضة', 0.8214186429977417),\n",
              " ('الفصائل', 0.8155093193054199),\n",
              " ('معارضة', 0.808053731918335),\n",
              " ('المسلحة', 0.7812507152557373)]"
            ]
          },
          "metadata": {
            "tags": []
          },
          "execution_count": 9
        }
      ]
    },
    {
      "cell_type": "markdown",
      "metadata": {
        "id": "rONtRQoTANGy",
        "colab_type": "text"
      },
      "source": [
        "This looks decent! Two of these are variants on the word opposition and the others are \"armed,\" \"factions,\" and \"moderate\" -- all words that Arab media outlets might use to describe an opposition movement.\n",
        "\n",
        "We could further improve our results here by using a different metric, cosine similarity, to measure the distance between words in embedding space. But for now, let's return to our classification task.\n",
        "\n",
        "Right now, we have vectors for individual words, but we want a single vector for each piece of text in our dataset. One way to solve this problem is by averaging the vectors of individual words. Let's create a simple function that does this."
      ]
    },
    {
      "cell_type": "code",
      "metadata": {
        "id": "FQ4-tSiFAMeB",
        "colab_type": "code",
        "colab": {}
      },
      "source": [
        "#Remember that we've already tokenized our text, creating a 'list of lists.' Let's plan to feed that into our function.\n",
        "def doc_vectorizer(text, model):\n",
        "  doc_vec = 0\n",
        "  count = 0\n",
        "\n",
        "  if len(text) == 1:\n",
        "    return model[text]\n",
        "\n",
        "  for t in text:\n",
        "    try:\n",
        "      word_vec = model[t]\n",
        "      doc_vec = doc_vec + word_vec\n",
        "      count += 1\n",
        "    except:\n",
        "      pass\n",
        "  \n",
        "  doc_vec = doc_vec / count\n",
        "  return doc_vec"
      ],
      "execution_count": 0,
      "outputs": []
    },
    {
      "cell_type": "code",
      "metadata": {
        "id": "R5phu3-J3u4A",
        "colab_type": "code",
        "colab": {
          "base_uri": "https://localhost:8080/",
          "height": 111
        },
        "outputId": "9501ffff-602a-4ef8-ea93-b8aa360dfa43"
      },
      "source": [
        "X_train = [doc_vectorizer(t, model) for t in train_words]\n",
        "X_test = [doc_vectorizer(t, model) for t in test_words]"
      ],
      "execution_count": 26,
      "outputs": [
        {
          "output_type": "stream",
          "text": [
            "/usr/local/lib/python3.6/dist-packages/ipykernel_launcher.py:10: DeprecationWarning: Call to deprecated `__getitem__` (Method will be removed in 4.0.0, use self.wv.__getitem__() instead).\n",
            "  # Remove the CWD from sys.path while we load stuff.\n"
          ],
          "name": "stderr"
        }
      ]
    },
    {
      "cell_type": "markdown",
      "metadata": {
        "id": "lnr8x11vCcN3",
        "colab_type": "text"
      },
      "source": [
        "For similicity and for better comparison, let's feed our new vectors into the same `sklearn` classifier that we've used previously."
      ]
    },
    {
      "cell_type": "code",
      "metadata": {
        "id": "wK6OfYWKCasO",
        "colab_type": "code",
        "colab": {
          "base_uri": "https://localhost:8080/",
          "height": 731
        },
        "outputId": "69310aaa-c7ef-454d-8758-9d7b636934b9"
      },
      "source": [
        "from sklearn.linear_model import LogisticRegression\n",
        "\n",
        "Y_train = train.label\n",
        "Y_test = test.label\n",
        "\n",
        "classifier = LogisticRegression(max_iter = 5000, multi_class='multinomial').fit(X_train, Y_train)\n",
        "preds = classifier.predict(X_test)\n",
        "pd.crosstab(Y_test, preds)"
      ],
      "execution_count": 27,
      "outputs": [
        {
          "output_type": "execute_result",
          "data": {
            "text/html": [
              "<div>\n",
              "<style scoped>\n",
              "    .dataframe tbody tr th:only-of-type {\n",
              "        vertical-align: middle;\n",
              "    }\n",
              "\n",
              "    .dataframe tbody tr th {\n",
              "        vertical-align: top;\n",
              "    }\n",
              "\n",
              "    .dataframe thead th {\n",
              "        text-align: right;\n",
              "    }\n",
              "</style>\n",
              "<table border=\"1\" class=\"dataframe\">\n",
              "  <thead>\n",
              "    <tr style=\"text-align: right;\">\n",
              "      <th>col_0</th>\n",
              "      <th>0</th>\n",
              "      <th>1</th>\n",
              "      <th>2</th>\n",
              "      <th>3</th>\n",
              "      <th>4</th>\n",
              "      <th>5</th>\n",
              "      <th>6</th>\n",
              "      <th>7</th>\n",
              "      <th>8</th>\n",
              "      <th>9</th>\n",
              "      <th>10</th>\n",
              "      <th>11</th>\n",
              "      <th>12</th>\n",
              "      <th>13</th>\n",
              "      <th>14</th>\n",
              "      <th>15</th>\n",
              "      <th>16</th>\n",
              "      <th>17</th>\n",
              "      <th>18</th>\n",
              "      <th>19</th>\n",
              "      <th>20</th>\n",
              "    </tr>\n",
              "    <tr>\n",
              "      <th>label</th>\n",
              "      <th></th>\n",
              "      <th></th>\n",
              "      <th></th>\n",
              "      <th></th>\n",
              "      <th></th>\n",
              "      <th></th>\n",
              "      <th></th>\n",
              "      <th></th>\n",
              "      <th></th>\n",
              "      <th></th>\n",
              "      <th></th>\n",
              "      <th></th>\n",
              "      <th></th>\n",
              "      <th></th>\n",
              "      <th></th>\n",
              "      <th></th>\n",
              "      <th></th>\n",
              "      <th></th>\n",
              "      <th></th>\n",
              "      <th></th>\n",
              "      <th></th>\n",
              "    </tr>\n",
              "  </thead>\n",
              "  <tbody>\n",
              "    <tr>\n",
              "      <th>0</th>\n",
              "      <td>15</td>\n",
              "      <td>0</td>\n",
              "      <td>0</td>\n",
              "      <td>1</td>\n",
              "      <td>0</td>\n",
              "      <td>0</td>\n",
              "      <td>1</td>\n",
              "      <td>0</td>\n",
              "      <td>0</td>\n",
              "      <td>0</td>\n",
              "      <td>0</td>\n",
              "      <td>0</td>\n",
              "      <td>0</td>\n",
              "      <td>0</td>\n",
              "      <td>0</td>\n",
              "      <td>0</td>\n",
              "      <td>5</td>\n",
              "      <td>1</td>\n",
              "      <td>0</td>\n",
              "      <td>0</td>\n",
              "      <td>0</td>\n",
              "    </tr>\n",
              "    <tr>\n",
              "      <th>1</th>\n",
              "      <td>0</td>\n",
              "      <td>13</td>\n",
              "      <td>0</td>\n",
              "      <td>0</td>\n",
              "      <td>0</td>\n",
              "      <td>0</td>\n",
              "      <td>0</td>\n",
              "      <td>0</td>\n",
              "      <td>0</td>\n",
              "      <td>0</td>\n",
              "      <td>0</td>\n",
              "      <td>0</td>\n",
              "      <td>0</td>\n",
              "      <td>3</td>\n",
              "      <td>0</td>\n",
              "      <td>0</td>\n",
              "      <td>0</td>\n",
              "      <td>1</td>\n",
              "      <td>0</td>\n",
              "      <td>0</td>\n",
              "      <td>0</td>\n",
              "    </tr>\n",
              "    <tr>\n",
              "      <th>2</th>\n",
              "      <td>0</td>\n",
              "      <td>0</td>\n",
              "      <td>38</td>\n",
              "      <td>0</td>\n",
              "      <td>0</td>\n",
              "      <td>0</td>\n",
              "      <td>0</td>\n",
              "      <td>0</td>\n",
              "      <td>1</td>\n",
              "      <td>0</td>\n",
              "      <td>11</td>\n",
              "      <td>0</td>\n",
              "      <td>0</td>\n",
              "      <td>0</td>\n",
              "      <td>2</td>\n",
              "      <td>0</td>\n",
              "      <td>0</td>\n",
              "      <td>2</td>\n",
              "      <td>0</td>\n",
              "      <td>0</td>\n",
              "      <td>0</td>\n",
              "    </tr>\n",
              "    <tr>\n",
              "      <th>3</th>\n",
              "      <td>0</td>\n",
              "      <td>0</td>\n",
              "      <td>0</td>\n",
              "      <td>26</td>\n",
              "      <td>1</td>\n",
              "      <td>0</td>\n",
              "      <td>3</td>\n",
              "      <td>0</td>\n",
              "      <td>0</td>\n",
              "      <td>0</td>\n",
              "      <td>0</td>\n",
              "      <td>0</td>\n",
              "      <td>0</td>\n",
              "      <td>0</td>\n",
              "      <td>0</td>\n",
              "      <td>0</td>\n",
              "      <td>0</td>\n",
              "      <td>0</td>\n",
              "      <td>0</td>\n",
              "      <td>1</td>\n",
              "      <td>3</td>\n",
              "    </tr>\n",
              "    <tr>\n",
              "      <th>4</th>\n",
              "      <td>0</td>\n",
              "      <td>0</td>\n",
              "      <td>0</td>\n",
              "      <td>0</td>\n",
              "      <td>37</td>\n",
              "      <td>0</td>\n",
              "      <td>0</td>\n",
              "      <td>0</td>\n",
              "      <td>0</td>\n",
              "      <td>0</td>\n",
              "      <td>0</td>\n",
              "      <td>0</td>\n",
              "      <td>0</td>\n",
              "      <td>0</td>\n",
              "      <td>0</td>\n",
              "      <td>0</td>\n",
              "      <td>0</td>\n",
              "      <td>0</td>\n",
              "      <td>0</td>\n",
              "      <td>0</td>\n",
              "      <td>2</td>\n",
              "    </tr>\n",
              "    <tr>\n",
              "      <th>5</th>\n",
              "      <td>0</td>\n",
              "      <td>0</td>\n",
              "      <td>0</td>\n",
              "      <td>0</td>\n",
              "      <td>0</td>\n",
              "      <td>43</td>\n",
              "      <td>9</td>\n",
              "      <td>0</td>\n",
              "      <td>0</td>\n",
              "      <td>0</td>\n",
              "      <td>0</td>\n",
              "      <td>0</td>\n",
              "      <td>0</td>\n",
              "      <td>1</td>\n",
              "      <td>0</td>\n",
              "      <td>0</td>\n",
              "      <td>4</td>\n",
              "      <td>0</td>\n",
              "      <td>0</td>\n",
              "      <td>1</td>\n",
              "      <td>0</td>\n",
              "    </tr>\n",
              "    <tr>\n",
              "      <th>6</th>\n",
              "      <td>0</td>\n",
              "      <td>0</td>\n",
              "      <td>0</td>\n",
              "      <td>1</td>\n",
              "      <td>0</td>\n",
              "      <td>4</td>\n",
              "      <td>289</td>\n",
              "      <td>2</td>\n",
              "      <td>0</td>\n",
              "      <td>0</td>\n",
              "      <td>0</td>\n",
              "      <td>0</td>\n",
              "      <td>25</td>\n",
              "      <td>7</td>\n",
              "      <td>0</td>\n",
              "      <td>0</td>\n",
              "      <td>4</td>\n",
              "      <td>0</td>\n",
              "      <td>0</td>\n",
              "      <td>2</td>\n",
              "      <td>0</td>\n",
              "    </tr>\n",
              "    <tr>\n",
              "      <th>7</th>\n",
              "      <td>0</td>\n",
              "      <td>0</td>\n",
              "      <td>0</td>\n",
              "      <td>1</td>\n",
              "      <td>0</td>\n",
              "      <td>0</td>\n",
              "      <td>5</td>\n",
              "      <td>41</td>\n",
              "      <td>0</td>\n",
              "      <td>0</td>\n",
              "      <td>0</td>\n",
              "      <td>0</td>\n",
              "      <td>0</td>\n",
              "      <td>0</td>\n",
              "      <td>0</td>\n",
              "      <td>0</td>\n",
              "      <td>0</td>\n",
              "      <td>0</td>\n",
              "      <td>0</td>\n",
              "      <td>4</td>\n",
              "      <td>1</td>\n",
              "    </tr>\n",
              "    <tr>\n",
              "      <th>8</th>\n",
              "      <td>0</td>\n",
              "      <td>0</td>\n",
              "      <td>3</td>\n",
              "      <td>0</td>\n",
              "      <td>0</td>\n",
              "      <td>0</td>\n",
              "      <td>0</td>\n",
              "      <td>0</td>\n",
              "      <td>54</td>\n",
              "      <td>0</td>\n",
              "      <td>0</td>\n",
              "      <td>0</td>\n",
              "      <td>0</td>\n",
              "      <td>0</td>\n",
              "      <td>5</td>\n",
              "      <td>0</td>\n",
              "      <td>0</td>\n",
              "      <td>0</td>\n",
              "      <td>0</td>\n",
              "      <td>0</td>\n",
              "      <td>0</td>\n",
              "    </tr>\n",
              "    <tr>\n",
              "      <th>9</th>\n",
              "      <td>0</td>\n",
              "      <td>0</td>\n",
              "      <td>0</td>\n",
              "      <td>0</td>\n",
              "      <td>0</td>\n",
              "      <td>0</td>\n",
              "      <td>0</td>\n",
              "      <td>0</td>\n",
              "      <td>0</td>\n",
              "      <td>13</td>\n",
              "      <td>1</td>\n",
              "      <td>0</td>\n",
              "      <td>0</td>\n",
              "      <td>0</td>\n",
              "      <td>0</td>\n",
              "      <td>0</td>\n",
              "      <td>0</td>\n",
              "      <td>2</td>\n",
              "      <td>0</td>\n",
              "      <td>1</td>\n",
              "      <td>0</td>\n",
              "    </tr>\n",
              "    <tr>\n",
              "      <th>10</th>\n",
              "      <td>0</td>\n",
              "      <td>0</td>\n",
              "      <td>2</td>\n",
              "      <td>0</td>\n",
              "      <td>0</td>\n",
              "      <td>0</td>\n",
              "      <td>0</td>\n",
              "      <td>0</td>\n",
              "      <td>3</td>\n",
              "      <td>0</td>\n",
              "      <td>63</td>\n",
              "      <td>0</td>\n",
              "      <td>0</td>\n",
              "      <td>0</td>\n",
              "      <td>1</td>\n",
              "      <td>0</td>\n",
              "      <td>5</td>\n",
              "      <td>1</td>\n",
              "      <td>0</td>\n",
              "      <td>0</td>\n",
              "      <td>1</td>\n",
              "    </tr>\n",
              "    <tr>\n",
              "      <th>11</th>\n",
              "      <td>0</td>\n",
              "      <td>0</td>\n",
              "      <td>1</td>\n",
              "      <td>0</td>\n",
              "      <td>0</td>\n",
              "      <td>0</td>\n",
              "      <td>6</td>\n",
              "      <td>0</td>\n",
              "      <td>0</td>\n",
              "      <td>1</td>\n",
              "      <td>0</td>\n",
              "      <td>9</td>\n",
              "      <td>0</td>\n",
              "      <td>0</td>\n",
              "      <td>1</td>\n",
              "      <td>1</td>\n",
              "      <td>0</td>\n",
              "      <td>1</td>\n",
              "      <td>0</td>\n",
              "      <td>1</td>\n",
              "      <td>1</td>\n",
              "    </tr>\n",
              "    <tr>\n",
              "      <th>12</th>\n",
              "      <td>0</td>\n",
              "      <td>0</td>\n",
              "      <td>0</td>\n",
              "      <td>0</td>\n",
              "      <td>0</td>\n",
              "      <td>0</td>\n",
              "      <td>51</td>\n",
              "      <td>0</td>\n",
              "      <td>0</td>\n",
              "      <td>0</td>\n",
              "      <td>0</td>\n",
              "      <td>0</td>\n",
              "      <td>44</td>\n",
              "      <td>0</td>\n",
              "      <td>0</td>\n",
              "      <td>0</td>\n",
              "      <td>2</td>\n",
              "      <td>0</td>\n",
              "      <td>0</td>\n",
              "      <td>2</td>\n",
              "      <td>0</td>\n",
              "    </tr>\n",
              "    <tr>\n",
              "      <th>13</th>\n",
              "      <td>0</td>\n",
              "      <td>1</td>\n",
              "      <td>0</td>\n",
              "      <td>0</td>\n",
              "      <td>0</td>\n",
              "      <td>0</td>\n",
              "      <td>9</td>\n",
              "      <td>0</td>\n",
              "      <td>0</td>\n",
              "      <td>0</td>\n",
              "      <td>0</td>\n",
              "      <td>0</td>\n",
              "      <td>0</td>\n",
              "      <td>44</td>\n",
              "      <td>0</td>\n",
              "      <td>0</td>\n",
              "      <td>1</td>\n",
              "      <td>0</td>\n",
              "      <td>0</td>\n",
              "      <td>1</td>\n",
              "      <td>3</td>\n",
              "    </tr>\n",
              "    <tr>\n",
              "      <th>14</th>\n",
              "      <td>0</td>\n",
              "      <td>0</td>\n",
              "      <td>4</td>\n",
              "      <td>0</td>\n",
              "      <td>0</td>\n",
              "      <td>0</td>\n",
              "      <td>0</td>\n",
              "      <td>0</td>\n",
              "      <td>14</td>\n",
              "      <td>0</td>\n",
              "      <td>1</td>\n",
              "      <td>0</td>\n",
              "      <td>0</td>\n",
              "      <td>0</td>\n",
              "      <td>9</td>\n",
              "      <td>0</td>\n",
              "      <td>1</td>\n",
              "      <td>0</td>\n",
              "      <td>0</td>\n",
              "      <td>0</td>\n",
              "      <td>1</td>\n",
              "    </tr>\n",
              "    <tr>\n",
              "      <th>15</th>\n",
              "      <td>0</td>\n",
              "      <td>0</td>\n",
              "      <td>0</td>\n",
              "      <td>0</td>\n",
              "      <td>0</td>\n",
              "      <td>0</td>\n",
              "      <td>1</td>\n",
              "      <td>0</td>\n",
              "      <td>0</td>\n",
              "      <td>0</td>\n",
              "      <td>0</td>\n",
              "      <td>0</td>\n",
              "      <td>0</td>\n",
              "      <td>1</td>\n",
              "      <td>0</td>\n",
              "      <td>17</td>\n",
              "      <td>0</td>\n",
              "      <td>0</td>\n",
              "      <td>0</td>\n",
              "      <td>1</td>\n",
              "      <td>0</td>\n",
              "    </tr>\n",
              "    <tr>\n",
              "      <th>16</th>\n",
              "      <td>0</td>\n",
              "      <td>0</td>\n",
              "      <td>1</td>\n",
              "      <td>0</td>\n",
              "      <td>0</td>\n",
              "      <td>2</td>\n",
              "      <td>12</td>\n",
              "      <td>1</td>\n",
              "      <td>0</td>\n",
              "      <td>0</td>\n",
              "      <td>2</td>\n",
              "      <td>0</td>\n",
              "      <td>0</td>\n",
              "      <td>0</td>\n",
              "      <td>0</td>\n",
              "      <td>0</td>\n",
              "      <td>38</td>\n",
              "      <td>0</td>\n",
              "      <td>0</td>\n",
              "      <td>0</td>\n",
              "      <td>1</td>\n",
              "    </tr>\n",
              "    <tr>\n",
              "      <th>17</th>\n",
              "      <td>1</td>\n",
              "      <td>1</td>\n",
              "      <td>0</td>\n",
              "      <td>0</td>\n",
              "      <td>1</td>\n",
              "      <td>3</td>\n",
              "      <td>7</td>\n",
              "      <td>2</td>\n",
              "      <td>0</td>\n",
              "      <td>0</td>\n",
              "      <td>0</td>\n",
              "      <td>1</td>\n",
              "      <td>0</td>\n",
              "      <td>0</td>\n",
              "      <td>0</td>\n",
              "      <td>0</td>\n",
              "      <td>1</td>\n",
              "      <td>131</td>\n",
              "      <td>0</td>\n",
              "      <td>0</td>\n",
              "      <td>1</td>\n",
              "    </tr>\n",
              "    <tr>\n",
              "      <th>18</th>\n",
              "      <td>0</td>\n",
              "      <td>0</td>\n",
              "      <td>0</td>\n",
              "      <td>0</td>\n",
              "      <td>0</td>\n",
              "      <td>0</td>\n",
              "      <td>0</td>\n",
              "      <td>0</td>\n",
              "      <td>0</td>\n",
              "      <td>0</td>\n",
              "      <td>0</td>\n",
              "      <td>0</td>\n",
              "      <td>0</td>\n",
              "      <td>0</td>\n",
              "      <td>0</td>\n",
              "      <td>0</td>\n",
              "      <td>0</td>\n",
              "      <td>0</td>\n",
              "      <td>29</td>\n",
              "      <td>0</td>\n",
              "      <td>0</td>\n",
              "    </tr>\n",
              "    <tr>\n",
              "      <th>19</th>\n",
              "      <td>0</td>\n",
              "      <td>0</td>\n",
              "      <td>0</td>\n",
              "      <td>0</td>\n",
              "      <td>0</td>\n",
              "      <td>0</td>\n",
              "      <td>4</td>\n",
              "      <td>3</td>\n",
              "      <td>0</td>\n",
              "      <td>0</td>\n",
              "      <td>1</td>\n",
              "      <td>0</td>\n",
              "      <td>0</td>\n",
              "      <td>1</td>\n",
              "      <td>0</td>\n",
              "      <td>0</td>\n",
              "      <td>1</td>\n",
              "      <td>0</td>\n",
              "      <td>0</td>\n",
              "      <td>31</td>\n",
              "      <td>3</td>\n",
              "    </tr>\n",
              "    <tr>\n",
              "      <th>20</th>\n",
              "      <td>0</td>\n",
              "      <td>0</td>\n",
              "      <td>1</td>\n",
              "      <td>0</td>\n",
              "      <td>0</td>\n",
              "      <td>0</td>\n",
              "      <td>4</td>\n",
              "      <td>1</td>\n",
              "      <td>0</td>\n",
              "      <td>0</td>\n",
              "      <td>0</td>\n",
              "      <td>0</td>\n",
              "      <td>0</td>\n",
              "      <td>1</td>\n",
              "      <td>0</td>\n",
              "      <td>0</td>\n",
              "      <td>0</td>\n",
              "      <td>0</td>\n",
              "      <td>0</td>\n",
              "      <td>5</td>\n",
              "      <td>38</td>\n",
              "    </tr>\n",
              "  </tbody>\n",
              "</table>\n",
              "</div>"
            ],
            "text/plain": [
              "col_0  0   1   2   3   4   5    6   7   8   ...  12  13  14  15  16   17  18  19  20\n",
              "label                                       ...                                     \n",
              "0      15   0   0   1   0   0    1   0   0  ...   0   0   0   0   5    1   0   0   0\n",
              "1       0  13   0   0   0   0    0   0   0  ...   0   3   0   0   0    1   0   0   0\n",
              "2       0   0  38   0   0   0    0   0   1  ...   0   0   2   0   0    2   0   0   0\n",
              "3       0   0   0  26   1   0    3   0   0  ...   0   0   0   0   0    0   0   1   3\n",
              "4       0   0   0   0  37   0    0   0   0  ...   0   0   0   0   0    0   0   0   2\n",
              "5       0   0   0   0   0  43    9   0   0  ...   0   1   0   0   4    0   0   1   0\n",
              "6       0   0   0   1   0   4  289   2   0  ...  25   7   0   0   4    0   0   2   0\n",
              "7       0   0   0   1   0   0    5  41   0  ...   0   0   0   0   0    0   0   4   1\n",
              "8       0   0   3   0   0   0    0   0  54  ...   0   0   5   0   0    0   0   0   0\n",
              "9       0   0   0   0   0   0    0   0   0  ...   0   0   0   0   0    2   0   1   0\n",
              "10      0   0   2   0   0   0    0   0   3  ...   0   0   1   0   5    1   0   0   1\n",
              "11      0   0   1   0   0   0    6   0   0  ...   0   0   1   1   0    1   0   1   1\n",
              "12      0   0   0   0   0   0   51   0   0  ...  44   0   0   0   2    0   0   2   0\n",
              "13      0   1   0   0   0   0    9   0   0  ...   0  44   0   0   1    0   0   1   3\n",
              "14      0   0   4   0   0   0    0   0  14  ...   0   0   9   0   1    0   0   0   1\n",
              "15      0   0   0   0   0   0    1   0   0  ...   0   1   0  17   0    0   0   1   0\n",
              "16      0   0   1   0   0   2   12   1   0  ...   0   0   0   0  38    0   0   0   1\n",
              "17      1   1   0   0   1   3    7   2   0  ...   0   0   0   0   1  131   0   0   1\n",
              "18      0   0   0   0   0   0    0   0   0  ...   0   0   0   0   0    0  29   0   0\n",
              "19      0   0   0   0   0   0    4   3   0  ...   0   1   0   0   1    0   0  31   3\n",
              "20      0   0   1   0   0   0    4   1   0  ...   0   1   0   0   0    0   0   5  38\n",
              "\n",
              "[21 rows x 21 columns]"
            ]
          },
          "metadata": {
            "tags": []
          },
          "execution_count": 27
        }
      ]
    },
    {
      "cell_type": "code",
      "metadata": {
        "id": "mnwhf0Ik5-zY",
        "colab_type": "code",
        "colab": {
          "base_uri": "https://localhost:8080/",
          "height": 34
        },
        "outputId": "b975a193-b431-45f7-ac81-9851918e6249"
      },
      "source": [
        "from sklearn.metrics import f1_score\n",
        "\n",
        "f1_score(Y_test, preds, average = 'weighted')"
      ],
      "execution_count": 31,
      "outputs": [
        {
          "output_type": "execute_result",
          "data": {
            "text/plain": [
              "0.7666117199190055"
            ]
          },
          "metadata": {
            "tags": []
          },
          "execution_count": 31
        }
      ]
    },
    {
      "cell_type": "markdown",
      "metadata": {
        "id": "5Zeax6kh20ay",
        "colab_type": "text"
      },
      "source": [
        "This looks good. Notice that the model is getting confused between categories 6 and 12 less often. The F1 score is also slightly improved.\n",
        "\n",
        "But wait! There's another approach we can try here. `gensim` also offers a doc2vec implementation, for cases like ours where we really want document-level and not a word-level vectors. We use a different function within `gensim` to tokenize our documents."
      ]
    },
    {
      "cell_type": "code",
      "metadata": {
        "id": "_wGZWTmq4Nl_",
        "colab_type": "code",
        "colab": {}
      },
      "source": [
        "from gensim.models.doc2vec import Doc2Vec, TaggedDocument\n",
        "\n",
        "documents = [TaggedDocument(doc, [i]) for i, doc in enumerate(train.text)]\n",
        "doc_model = Doc2Vec(documents, min_count=1)"
      ],
      "execution_count": 0,
      "outputs": []
    },
    {
      "cell_type": "code",
      "metadata": {
        "id": "L4XkyQOT5ipc",
        "colab_type": "code",
        "colab": {}
      },
      "source": [
        "X_train = [doc_model.infer_vector(t) for t in train.text]\n",
        "X_test = [doc_model.infer_vector(t) for t in test.text]"
      ],
      "execution_count": 0,
      "outputs": []
    },
    {
      "cell_type": "code",
      "metadata": {
        "id": "C04U-41P56P2",
        "colab_type": "code",
        "colab": {
          "base_uri": "https://localhost:8080/",
          "height": 34
        },
        "outputId": "9587560d-12d0-4e79-a0fb-82f2b7f207ac"
      },
      "source": [
        "\n",
        "classifier = LogisticRegression(max_iter = 5000, multi_class='multinomial').fit(X_train, Y_train)\n",
        "preds = classifier.predict(X_test)\n",
        "f1_score(Y_test, preds, average = 'weighted')"
      ],
      "execution_count": 34,
      "outputs": [
        {
          "output_type": "execute_result",
          "data": {
            "text/plain": [
              "0.42578872232835935"
            ]
          },
          "metadata": {
            "tags": []
          },
          "execution_count": 34
        }
      ]
    },
    {
      "cell_type": "markdown",
      "metadata": {
        "id": "6dreWtCN8EtG",
        "colab_type": "text"
      },
      "source": [
        "These results are much worse! That's probably due to the size of our training set. With more data, doc2vec would likely outperform word2vec for this kind of problem.\n",
        "\n",
        "In the next notebook, we'll explore how to take advantage of large training sets when we don't have access to them ourselves."
      ]
    }
  ]
}